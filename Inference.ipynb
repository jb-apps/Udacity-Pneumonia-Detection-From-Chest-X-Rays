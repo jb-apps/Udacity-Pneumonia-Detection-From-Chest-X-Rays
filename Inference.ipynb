{
 "cells": [
  {
   "cell_type": "code",
   "execution_count": 2,
   "metadata": {},
   "outputs": [],
   "source": [
    "import numpy as np\n",
    "import pandas as pd\n",
    "import pydicom\n",
    "%matplotlib inline\n",
    "import matplotlib.pyplot as plt\n",
    "import keras \n",
    "\n",
    "from skimage.transform import resize\n",
    "from keras.models import model_from_json"
   ]
  },
  {
   "cell_type": "code",
   "execution_count": 20,
   "metadata": {},
   "outputs": [],
   "source": [
    "# This function reads in a .dcm file, checks the important fields for our device, and returns a numpy array\n",
    "# of just the imaging data\n",
    "def check_dicom(filename): \n",
    "    print('Load file {} ...'.format(filename))\n",
    "    ds = pydicom.dcmread(filename)       \n",
    "    img = ds.pixel_array\n",
    "    img_mean = img.mean()\n",
    "    img_std = img.std()\n",
    "    img_type = ds.Modality\n",
    "    \n",
    "    img_bodyp=ds.BodyPartExamined\n",
    "    img_position=ds.PatientPosition\n",
    "    \n",
    "    if  img_type != 'DX' or \\\n",
    "        img_bodyp != 'CHEST' or \\\n",
    "        (img_position != 'AP' and img_position != 'PA'):\n",
    "        print('Unsupported dycom file {} {} {}\\n'.format(img_type, img_bodyp, img_position))\n",
    "        return None\n",
    "    else:\n",
    "        return img,img_mean,img_std\n",
    "    \n",
    "    \n",
    "# This function takes the numpy array output by check_dicom and \n",
    "# runs the appropriate pre-processing needed for our model input\n",
    "def preprocess_image(img,img_mean,img_std,img_size): \n",
    "    img = (img - img_mean) / img_std\n",
    "    proc_img = resize(img, img_size)\n",
    "    return proc_img\n",
    "\n",
    "# This function loads in our trained model w/ weights and compiles it \n",
    "def load_model(model_path, weight_path):\n",
    "    with open(model_path, 'r') as json_file:\n",
    "        loaded_model_json = json_file.read()\n",
    "    \n",
    "        model = model_from_json(loaded_model_json)\n",
    "    \n",
    "        # load weights into new model\n",
    "        model.load_weights(weight_path)\n",
    "\n",
    "        # evaluate loaded model on test data\n",
    "        model.compile(loss='binary_crossentropy', optimizer='adam', metrics=['binary_accuracy'])\n",
    "    \n",
    "    return model\n",
    "\n",
    "# This function uses our device's threshold parameters to predict whether or not\n",
    "# the image shows the presence of pneumonia using our trained model\n",
    "def predict_image(model, img, thresh): \n",
    "    prediction = model.predict(img)\n",
    "    return 'Pneumonia' if prediction > thresh else 'No pneumonia'"
   ]
  },
  {
   "cell_type": "code",
   "execution_count": 22,
   "metadata": {},
   "outputs": [
    {
     "name": "stdout",
     "output_type": "stream",
     "text": [
      "Load file test1.dcm ...\n",
      "Load file test1.dcm ...\n",
      "Pneumonia\n",
      "\n",
      "Load file test2.dcm ...\n",
      "Load file test2.dcm ...\n",
      "Pneumonia\n",
      "\n",
      "Load file test3.dcm ...\n",
      "Load file test3.dcm ...\n",
      "Pneumonia\n",
      "\n",
      "Load file test4.dcm ...\n",
      "Unsupported dycom file DX RIBCAGE PA\n",
      "\n",
      "Load file test5.dcm ...\n",
      "Unsupported dycom file CT CHEST PA\n",
      "\n",
      "Load file test6.dcm ...\n",
      "Unsupported dycom file DX CHEST XX\n",
      "\n"
     ]
    }
   ],
   "source": [
    "test_dicoms = ['test1.dcm','test2.dcm','test3.dcm','test4.dcm','test5.dcm','test6.dcm']\n",
    "\n",
    "model_path = 'my_model.json' #path to saved model\n",
    "weight_path = 'xray_class_my_model.best.hdf5' #path to saved best weights\n",
    "\n",
    "IMG_SIZE=(1,224,224,3) # This might be different if you did not use vgg16\n",
    "# img_mean = # loads the mean image value they used during training preprocessing\n",
    "# img_std = # loads the std dev image value they used during training preprocessing\n",
    "\n",
    "my_model = load_model(model_path, weight_path)\n",
    "thresh = 0.4#loads the threshold they chose for model classification \n",
    "\n",
    "# use the .dcm files to test your prediction\n",
    "for i in test_dicoms:\n",
    "    \n",
    "    img = np.array([])\n",
    "    if check_dicom(i) == None:\n",
    "        continue\n",
    "        \n",
    "    img,img_mean,img_std = check_dicom(i)\n",
    "        \n",
    "    img_proc = preprocess_image(img,img_mean,img_std,IMG_SIZE)\n",
    "    pred = predict_image(my_model,img_proc,thresh)\n",
    "    print(pred + '\\n')"
   ]
  }
 ],
 "metadata": {
  "kernelspec": {
   "display_name": "Python 3",
   "language": "python",
   "name": "python3"
  },
  "language_info": {
   "codemirror_mode": {
    "name": "ipython",
    "version": 3
   },
   "file_extension": ".py",
   "mimetype": "text/x-python",
   "name": "python",
   "nbconvert_exporter": "python",
   "pygments_lexer": "ipython3",
   "version": "3.7.6"
  }
 },
 "nbformat": 4,
 "nbformat_minor": 2
}
